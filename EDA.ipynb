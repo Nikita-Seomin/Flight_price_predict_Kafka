{
 "cells": [
  {
   "cell_type": "code",
   "execution_count": 1,
   "metadata": {
    "collapsed": true
   },
   "outputs": [],
   "source": [
    "import pandas as pd"
   ]
  },
  {
   "cell_type": "code",
   "execution_count": 2,
   "outputs": [
    {
     "data": {
      "text/plain": "        Unnamed: 0   airline source_city departure_time stops   arrival_time  \\\n0                0  SpiceJet       Delhi        Evening  zero          Night   \n1                1  SpiceJet       Delhi  Early_Morning  zero        Morning   \n2                2   AirAsia       Delhi  Early_Morning  zero  Early_Morning   \n3                3   Vistara       Delhi        Morning  zero      Afternoon   \n4                4   Vistara       Delhi        Morning  zero        Morning   \n...            ...       ...         ...            ...   ...            ...   \n300148      300148   Vistara     Chennai        Morning   one        Evening   \n300149      300149   Vistara     Chennai      Afternoon   one          Night   \n300150      300150   Vistara     Chennai  Early_Morning   one          Night   \n300151      300151   Vistara     Chennai  Early_Morning   one        Evening   \n300152      300152   Vistara     Chennai        Morning   one        Evening   \n\n       destination_city     class  duration  days_left  price  \n0                Mumbai   Economy      2.17          1   5953  \n1                Mumbai   Economy      2.33          1   5953  \n2                Mumbai   Economy      2.17          1   5956  \n3                Mumbai   Economy      2.25          1   5955  \n4                Mumbai   Economy      2.33          1   5955  \n...                 ...       ...       ...        ...    ...  \n300148        Hyderabad  Business     10.08         49  69265  \n300149        Hyderabad  Business     10.42         49  77105  \n300150        Hyderabad  Business     13.83         49  79099  \n300151        Hyderabad  Business     10.00         49  81585  \n300152        Hyderabad  Business     10.08         49  81585  \n\n[300153 rows x 11 columns]",
      "text/html": "<div>\n<style scoped>\n    .dataframe tbody tr th:only-of-type {\n        vertical-align: middle;\n    }\n\n    .dataframe tbody tr th {\n        vertical-align: top;\n    }\n\n    .dataframe thead th {\n        text-align: right;\n    }\n</style>\n<table border=\"1\" class=\"dataframe\">\n  <thead>\n    <tr style=\"text-align: right;\">\n      <th></th>\n      <th>Unnamed: 0</th>\n      <th>airline</th>\n      <th>source_city</th>\n      <th>departure_time</th>\n      <th>stops</th>\n      <th>arrival_time</th>\n      <th>destination_city</th>\n      <th>class</th>\n      <th>duration</th>\n      <th>days_left</th>\n      <th>price</th>\n    </tr>\n  </thead>\n  <tbody>\n    <tr>\n      <th>0</th>\n      <td>0</td>\n      <td>SpiceJet</td>\n      <td>Delhi</td>\n      <td>Evening</td>\n      <td>zero</td>\n      <td>Night</td>\n      <td>Mumbai</td>\n      <td>Economy</td>\n      <td>2.17</td>\n      <td>1</td>\n      <td>5953</td>\n    </tr>\n    <tr>\n      <th>1</th>\n      <td>1</td>\n      <td>SpiceJet</td>\n      <td>Delhi</td>\n      <td>Early_Morning</td>\n      <td>zero</td>\n      <td>Morning</td>\n      <td>Mumbai</td>\n      <td>Economy</td>\n      <td>2.33</td>\n      <td>1</td>\n      <td>5953</td>\n    </tr>\n    <tr>\n      <th>2</th>\n      <td>2</td>\n      <td>AirAsia</td>\n      <td>Delhi</td>\n      <td>Early_Morning</td>\n      <td>zero</td>\n      <td>Early_Morning</td>\n      <td>Mumbai</td>\n      <td>Economy</td>\n      <td>2.17</td>\n      <td>1</td>\n      <td>5956</td>\n    </tr>\n    <tr>\n      <th>3</th>\n      <td>3</td>\n      <td>Vistara</td>\n      <td>Delhi</td>\n      <td>Morning</td>\n      <td>zero</td>\n      <td>Afternoon</td>\n      <td>Mumbai</td>\n      <td>Economy</td>\n      <td>2.25</td>\n      <td>1</td>\n      <td>5955</td>\n    </tr>\n    <tr>\n      <th>4</th>\n      <td>4</td>\n      <td>Vistara</td>\n      <td>Delhi</td>\n      <td>Morning</td>\n      <td>zero</td>\n      <td>Morning</td>\n      <td>Mumbai</td>\n      <td>Economy</td>\n      <td>2.33</td>\n      <td>1</td>\n      <td>5955</td>\n    </tr>\n    <tr>\n      <th>...</th>\n      <td>...</td>\n      <td>...</td>\n      <td>...</td>\n      <td>...</td>\n      <td>...</td>\n      <td>...</td>\n      <td>...</td>\n      <td>...</td>\n      <td>...</td>\n      <td>...</td>\n      <td>...</td>\n    </tr>\n    <tr>\n      <th>300148</th>\n      <td>300148</td>\n      <td>Vistara</td>\n      <td>Chennai</td>\n      <td>Morning</td>\n      <td>one</td>\n      <td>Evening</td>\n      <td>Hyderabad</td>\n      <td>Business</td>\n      <td>10.08</td>\n      <td>49</td>\n      <td>69265</td>\n    </tr>\n    <tr>\n      <th>300149</th>\n      <td>300149</td>\n      <td>Vistara</td>\n      <td>Chennai</td>\n      <td>Afternoon</td>\n      <td>one</td>\n      <td>Night</td>\n      <td>Hyderabad</td>\n      <td>Business</td>\n      <td>10.42</td>\n      <td>49</td>\n      <td>77105</td>\n    </tr>\n    <tr>\n      <th>300150</th>\n      <td>300150</td>\n      <td>Vistara</td>\n      <td>Chennai</td>\n      <td>Early_Morning</td>\n      <td>one</td>\n      <td>Night</td>\n      <td>Hyderabad</td>\n      <td>Business</td>\n      <td>13.83</td>\n      <td>49</td>\n      <td>79099</td>\n    </tr>\n    <tr>\n      <th>300151</th>\n      <td>300151</td>\n      <td>Vistara</td>\n      <td>Chennai</td>\n      <td>Early_Morning</td>\n      <td>one</td>\n      <td>Evening</td>\n      <td>Hyderabad</td>\n      <td>Business</td>\n      <td>10.00</td>\n      <td>49</td>\n      <td>81585</td>\n    </tr>\n    <tr>\n      <th>300152</th>\n      <td>300152</td>\n      <td>Vistara</td>\n      <td>Chennai</td>\n      <td>Morning</td>\n      <td>one</td>\n      <td>Evening</td>\n      <td>Hyderabad</td>\n      <td>Business</td>\n      <td>10.08</td>\n      <td>49</td>\n      <td>81585</td>\n    </tr>\n  </tbody>\n</table>\n<p>300153 rows × 11 columns</p>\n</div>"
     },
     "execution_count": 2,
     "metadata": {},
     "output_type": "execute_result"
    }
   ],
   "source": [
    "df = pd.read_csv('Clean_Dataset.csv')\n",
    "df = df.drop('flight', axis=1)\n",
    "df"
   ],
   "metadata": {
    "collapsed": false
   }
  },
  {
   "cell_type": "code",
   "execution_count": 3,
   "outputs": [
    {
     "data": {
      "text/plain": "Index(['airline', 'source_city', 'departure_time', 'stops', 'arrival_time',\n       'destination_city', 'class'],\n      dtype='object')"
     },
     "execution_count": 3,
     "metadata": {},
     "output_type": "execute_result"
    }
   ],
   "source": [
    "# Определяем категориальные признаки\n",
    "categorical_columns = df.select_dtypes(include=['object']).columns\n",
    "categorical_columns"
   ],
   "metadata": {
    "collapsed": false
   }
  },
  {
   "cell_type": "code",
   "execution_count": 4,
   "outputs": [
    {
     "data": {
      "text/plain": "{'airline': array(['SpiceJet', 'AirAsia', 'Vistara', 'GO_FIRST', 'Indigo',\n        'Air_India'], dtype=object),\n 'source_city': array(['Delhi', 'Mumbai', 'Bangalore', 'Kolkata', 'Hyderabad', 'Chennai'],\n       dtype=object),\n 'departure_time': array(['Evening', 'Early_Morning', 'Morning', 'Afternoon', 'Night',\n        'Late_Night'], dtype=object),\n 'stops': array(['zero', 'one', 'two_or_more'], dtype=object),\n 'arrival_time': array(['Night', 'Morning', 'Early_Morning', 'Afternoon', 'Evening',\n        'Late_Night'], dtype=object),\n 'destination_city': array(['Mumbai', 'Bangalore', 'Kolkata', 'Hyderabad', 'Chennai', 'Delhi'],\n       dtype=object),\n 'class': array(['Economy', 'Business'], dtype=object)}"
     },
     "execution_count": 4,
     "metadata": {},
     "output_type": "execute_result"
    }
   ],
   "source": [
    "# Получаем уникальные значения для каждого категориального признака\n",
    "unique_categories = {col: df[col].unique() for col in categorical_columns}\n",
    "unique_categories"
   ],
   "metadata": {
    "collapsed": false
   }
  },
  {
   "cell_type": "code",
   "execution_count": 13,
   "outputs": [
    {
     "data": {
      "text/plain": "        duration  days_left  price  airline_AirAsia  airline_Air_India  \\\n0           2.17          1   5953                0                  0   \n1           2.33          1   5953                0                  0   \n2           2.17          1   5956                1                  0   \n3           2.25          1   5955                0                  0   \n4           2.33          1   5955                0                  0   \n...          ...        ...    ...              ...                ...   \n300148     10.08         49  69265                0                  0   \n300149     10.42         49  77105                0                  0   \n300150     13.83         49  79099                0                  0   \n300151     10.00         49  81585                0                  0   \n300152     10.08         49  81585                0                  0   \n\n        airline_GO_FIRST  airline_Indigo  airline_SpiceJet  airline_Vistara  \\\n0                      0               0                 1                0   \n1                      0               0                 1                0   \n2                      0               0                 0                0   \n3                      0               0                 0                1   \n4                      0               0                 0                1   \n...                  ...             ...               ...              ...   \n300148                 0               0                 0                1   \n300149                 0               0                 0                1   \n300150                 0               0                 0                1   \n300151                 0               0                 0                1   \n300152                 0               0                 0                1   \n\n        source_city_Bangalore  ...  arrival_time_Morning  arrival_time_Night  \\\n0                           0  ...                     0                   1   \n1                           0  ...                     1                   0   \n2                           0  ...                     0                   0   \n3                           0  ...                     0                   0   \n4                           0  ...                     1                   0   \n...                       ...  ...                   ...                 ...   \n300148                      0  ...                     0                   0   \n300149                      0  ...                     0                   1   \n300150                      0  ...                     0                   1   \n300151                      0  ...                     0                   0   \n300152                      0  ...                     0                   0   \n\n        destination_city_Bangalore  destination_city_Chennai  \\\n0                                0                         0   \n1                                0                         0   \n2                                0                         0   \n3                                0                         0   \n4                                0                         0   \n...                            ...                       ...   \n300148                           0                         0   \n300149                           0                         0   \n300150                           0                         0   \n300151                           0                         0   \n300152                           0                         0   \n\n        destination_city_Delhi  destination_city_Hyderabad  \\\n0                            0                           0   \n1                            0                           0   \n2                            0                           0   \n3                            0                           0   \n4                            0                           0   \n...                        ...                         ...   \n300148                       0                           1   \n300149                       0                           1   \n300150                       0                           1   \n300151                       0                           1   \n300152                       0                           1   \n\n        destination_city_Kolkata  destination_city_Mumbai  class_Business  \\\n0                              0                        1               0   \n1                              0                        1               0   \n2                              0                        1               0   \n3                              0                        1               0   \n4                              0                        1               0   \n...                          ...                      ...             ...   \n300148                         0                        0               1   \n300149                         0                        0               1   \n300150                         0                        0               1   \n300151                         0                        0               1   \n300152                         0                        0               1   \n\n        class_Economy  \n0                   1  \n1                   1  \n2                   1  \n3                   1  \n4                   1  \n...               ...  \n300148              0  \n300149              0  \n300150              0  \n300151              0  \n300152              0  \n\n[300153 rows x 38 columns]",
      "text/html": "<div>\n<style scoped>\n    .dataframe tbody tr th:only-of-type {\n        vertical-align: middle;\n    }\n\n    .dataframe tbody tr th {\n        vertical-align: top;\n    }\n\n    .dataframe thead th {\n        text-align: right;\n    }\n</style>\n<table border=\"1\" class=\"dataframe\">\n  <thead>\n    <tr style=\"text-align: right;\">\n      <th></th>\n      <th>duration</th>\n      <th>days_left</th>\n      <th>price</th>\n      <th>airline_AirAsia</th>\n      <th>airline_Air_India</th>\n      <th>airline_GO_FIRST</th>\n      <th>airline_Indigo</th>\n      <th>airline_SpiceJet</th>\n      <th>airline_Vistara</th>\n      <th>source_city_Bangalore</th>\n      <th>...</th>\n      <th>arrival_time_Morning</th>\n      <th>arrival_time_Night</th>\n      <th>destination_city_Bangalore</th>\n      <th>destination_city_Chennai</th>\n      <th>destination_city_Delhi</th>\n      <th>destination_city_Hyderabad</th>\n      <th>destination_city_Kolkata</th>\n      <th>destination_city_Mumbai</th>\n      <th>class_Business</th>\n      <th>class_Economy</th>\n    </tr>\n  </thead>\n  <tbody>\n    <tr>\n      <th>0</th>\n      <td>2.17</td>\n      <td>1</td>\n      <td>5953</td>\n      <td>0</td>\n      <td>0</td>\n      <td>0</td>\n      <td>0</td>\n      <td>1</td>\n      <td>0</td>\n      <td>0</td>\n      <td>...</td>\n      <td>0</td>\n      <td>1</td>\n      <td>0</td>\n      <td>0</td>\n      <td>0</td>\n      <td>0</td>\n      <td>0</td>\n      <td>1</td>\n      <td>0</td>\n      <td>1</td>\n    </tr>\n    <tr>\n      <th>1</th>\n      <td>2.33</td>\n      <td>1</td>\n      <td>5953</td>\n      <td>0</td>\n      <td>0</td>\n      <td>0</td>\n      <td>0</td>\n      <td>1</td>\n      <td>0</td>\n      <td>0</td>\n      <td>...</td>\n      <td>1</td>\n      <td>0</td>\n      <td>0</td>\n      <td>0</td>\n      <td>0</td>\n      <td>0</td>\n      <td>0</td>\n      <td>1</td>\n      <td>0</td>\n      <td>1</td>\n    </tr>\n    <tr>\n      <th>2</th>\n      <td>2.17</td>\n      <td>1</td>\n      <td>5956</td>\n      <td>1</td>\n      <td>0</td>\n      <td>0</td>\n      <td>0</td>\n      <td>0</td>\n      <td>0</td>\n      <td>0</td>\n      <td>...</td>\n      <td>0</td>\n      <td>0</td>\n      <td>0</td>\n      <td>0</td>\n      <td>0</td>\n      <td>0</td>\n      <td>0</td>\n      <td>1</td>\n      <td>0</td>\n      <td>1</td>\n    </tr>\n    <tr>\n      <th>3</th>\n      <td>2.25</td>\n      <td>1</td>\n      <td>5955</td>\n      <td>0</td>\n      <td>0</td>\n      <td>0</td>\n      <td>0</td>\n      <td>0</td>\n      <td>1</td>\n      <td>0</td>\n      <td>...</td>\n      <td>0</td>\n      <td>0</td>\n      <td>0</td>\n      <td>0</td>\n      <td>0</td>\n      <td>0</td>\n      <td>0</td>\n      <td>1</td>\n      <td>0</td>\n      <td>1</td>\n    </tr>\n    <tr>\n      <th>4</th>\n      <td>2.33</td>\n      <td>1</td>\n      <td>5955</td>\n      <td>0</td>\n      <td>0</td>\n      <td>0</td>\n      <td>0</td>\n      <td>0</td>\n      <td>1</td>\n      <td>0</td>\n      <td>...</td>\n      <td>1</td>\n      <td>0</td>\n      <td>0</td>\n      <td>0</td>\n      <td>0</td>\n      <td>0</td>\n      <td>0</td>\n      <td>1</td>\n      <td>0</td>\n      <td>1</td>\n    </tr>\n    <tr>\n      <th>...</th>\n      <td>...</td>\n      <td>...</td>\n      <td>...</td>\n      <td>...</td>\n      <td>...</td>\n      <td>...</td>\n      <td>...</td>\n      <td>...</td>\n      <td>...</td>\n      <td>...</td>\n      <td>...</td>\n      <td>...</td>\n      <td>...</td>\n      <td>...</td>\n      <td>...</td>\n      <td>...</td>\n      <td>...</td>\n      <td>...</td>\n      <td>...</td>\n      <td>...</td>\n      <td>...</td>\n    </tr>\n    <tr>\n      <th>300148</th>\n      <td>10.08</td>\n      <td>49</td>\n      <td>69265</td>\n      <td>0</td>\n      <td>0</td>\n      <td>0</td>\n      <td>0</td>\n      <td>0</td>\n      <td>1</td>\n      <td>0</td>\n      <td>...</td>\n      <td>0</td>\n      <td>0</td>\n      <td>0</td>\n      <td>0</td>\n      <td>0</td>\n      <td>1</td>\n      <td>0</td>\n      <td>0</td>\n      <td>1</td>\n      <td>0</td>\n    </tr>\n    <tr>\n      <th>300149</th>\n      <td>10.42</td>\n      <td>49</td>\n      <td>77105</td>\n      <td>0</td>\n      <td>0</td>\n      <td>0</td>\n      <td>0</td>\n      <td>0</td>\n      <td>1</td>\n      <td>0</td>\n      <td>...</td>\n      <td>0</td>\n      <td>1</td>\n      <td>0</td>\n      <td>0</td>\n      <td>0</td>\n      <td>1</td>\n      <td>0</td>\n      <td>0</td>\n      <td>1</td>\n      <td>0</td>\n    </tr>\n    <tr>\n      <th>300150</th>\n      <td>13.83</td>\n      <td>49</td>\n      <td>79099</td>\n      <td>0</td>\n      <td>0</td>\n      <td>0</td>\n      <td>0</td>\n      <td>0</td>\n      <td>1</td>\n      <td>0</td>\n      <td>...</td>\n      <td>0</td>\n      <td>1</td>\n      <td>0</td>\n      <td>0</td>\n      <td>0</td>\n      <td>1</td>\n      <td>0</td>\n      <td>0</td>\n      <td>1</td>\n      <td>0</td>\n    </tr>\n    <tr>\n      <th>300151</th>\n      <td>10.00</td>\n      <td>49</td>\n      <td>81585</td>\n      <td>0</td>\n      <td>0</td>\n      <td>0</td>\n      <td>0</td>\n      <td>0</td>\n      <td>1</td>\n      <td>0</td>\n      <td>...</td>\n      <td>0</td>\n      <td>0</td>\n      <td>0</td>\n      <td>0</td>\n      <td>0</td>\n      <td>1</td>\n      <td>0</td>\n      <td>0</td>\n      <td>1</td>\n      <td>0</td>\n    </tr>\n    <tr>\n      <th>300152</th>\n      <td>10.08</td>\n      <td>49</td>\n      <td>81585</td>\n      <td>0</td>\n      <td>0</td>\n      <td>0</td>\n      <td>0</td>\n      <td>0</td>\n      <td>1</td>\n      <td>0</td>\n      <td>...</td>\n      <td>0</td>\n      <td>0</td>\n      <td>0</td>\n      <td>0</td>\n      <td>0</td>\n      <td>1</td>\n      <td>0</td>\n      <td>0</td>\n      <td>1</td>\n      <td>0</td>\n    </tr>\n  </tbody>\n</table>\n<p>300153 rows × 38 columns</p>\n</div>"
     },
     "execution_count": 13,
     "metadata": {},
     "output_type": "execute_result"
    }
   ],
   "source": [
    "# Выполняем One-Hot Encoding\n",
    "df_encoded = pd.get_dummies(df, columns=categorical_columns)\n",
    "df_encoded = df_encoded.applymap(lambda x: 1 if x is True else (0 if x is False else x))\n",
    "# Проверяем результаты\n",
    "df_encoded.drop('Unnamed: 0', axis=1)"
   ],
   "metadata": {
    "collapsed": false
   }
  }
 ],
 "metadata": {
  "kernelspec": {
   "display_name": "Python 3",
   "language": "python",
   "name": "python3"
  },
  "language_info": {
   "codemirror_mode": {
    "name": "ipython",
    "version": 2
   },
   "file_extension": ".py",
   "mimetype": "text/x-python",
   "name": "python",
   "nbconvert_exporter": "python",
   "pygments_lexer": "ipython2",
   "version": "2.7.6"
  }
 },
 "nbformat": 4,
 "nbformat_minor": 0
}
